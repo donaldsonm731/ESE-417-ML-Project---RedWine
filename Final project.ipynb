{
 "cells": [
  {
   "cell_type": "code",
   "execution_count": 1,
   "metadata": {},
   "outputs": [],
   "source": [
    "import numpy as np \n",
    "import matplotlib.pyplot as plt \n",
    "import pandas as pd   \n",
    "from sklearn.preprocessing import StandardScaler\n",
    "from sklearn.preprocessing import MinMaxScaler\n",
    "\n",
    "\n",
    "from sklearn.metrics import classification_report, confusion_matrix\n",
    "from sklearn.decomposition import PCA\n",
    "from sklearn.model_selection import train_test_split"
   ]
  },
  {
   "cell_type": "code",
   "execution_count": 2,
   "metadata": {},
   "outputs": [
    {
     "data": {
      "text/html": [
       "<div>\n",
       "<style scoped>\n",
       "    .dataframe tbody tr th:only-of-type {\n",
       "        vertical-align: middle;\n",
       "    }\n",
       "\n",
       "    .dataframe tbody tr th {\n",
       "        vertical-align: top;\n",
       "    }\n",
       "\n",
       "    .dataframe thead th {\n",
       "        text-align: right;\n",
       "    }\n",
       "</style>\n",
       "<table border=\"1\" class=\"dataframe\">\n",
       "  <thead>\n",
       "    <tr style=\"text-align: right;\">\n",
       "      <th></th>\n",
       "      <th>Fixed Acidity</th>\n",
       "      <th>Volatile Acidity</th>\n",
       "      <th>Citric Acid</th>\n",
       "      <th>Residual Sugar</th>\n",
       "      <th>Chlorides</th>\n",
       "      <th>Free Sulfur Dioxide</th>\n",
       "      <th>Total Sulfur Dioxide</th>\n",
       "      <th>Density</th>\n",
       "      <th>pH</th>\n",
       "      <th>Sulphates</th>\n",
       "      <th>Alcohol</th>\n",
       "      <th>Quality</th>\n",
       "    </tr>\n",
       "  </thead>\n",
       "  <tbody>\n",
       "    <tr>\n",
       "      <th>Fixed Acidity</th>\n",
       "      <td>1.000000</td>\n",
       "      <td>-0.256131</td>\n",
       "      <td>0.671703</td>\n",
       "      <td>0.114777</td>\n",
       "      <td>0.093705</td>\n",
       "      <td>-0.153794</td>\n",
       "      <td>-0.113181</td>\n",
       "      <td>0.668047</td>\n",
       "      <td>-0.682978</td>\n",
       "      <td>0.183006</td>\n",
       "      <td>-0.061668</td>\n",
       "      <td>0.124052</td>\n",
       "    </tr>\n",
       "    <tr>\n",
       "      <th>Volatile Acidity</th>\n",
       "      <td>-0.256131</td>\n",
       "      <td>1.000000</td>\n",
       "      <td>-0.552496</td>\n",
       "      <td>0.001918</td>\n",
       "      <td>0.061298</td>\n",
       "      <td>-0.010504</td>\n",
       "      <td>0.076470</td>\n",
       "      <td>0.022026</td>\n",
       "      <td>0.234937</td>\n",
       "      <td>-0.260987</td>\n",
       "      <td>-0.202288</td>\n",
       "      <td>-0.390558</td>\n",
       "    </tr>\n",
       "    <tr>\n",
       "      <th>Citric Acid</th>\n",
       "      <td>0.671703</td>\n",
       "      <td>-0.552496</td>\n",
       "      <td>1.000000</td>\n",
       "      <td>0.143577</td>\n",
       "      <td>0.203823</td>\n",
       "      <td>-0.060978</td>\n",
       "      <td>0.035533</td>\n",
       "      <td>0.364947</td>\n",
       "      <td>-0.541904</td>\n",
       "      <td>0.312770</td>\n",
       "      <td>0.109903</td>\n",
       "      <td>0.226373</td>\n",
       "    </tr>\n",
       "    <tr>\n",
       "      <th>Residual Sugar</th>\n",
       "      <td>0.114777</td>\n",
       "      <td>0.001918</td>\n",
       "      <td>0.143577</td>\n",
       "      <td>1.000000</td>\n",
       "      <td>0.055610</td>\n",
       "      <td>0.187049</td>\n",
       "      <td>0.203028</td>\n",
       "      <td>0.355283</td>\n",
       "      <td>-0.085652</td>\n",
       "      <td>0.005527</td>\n",
       "      <td>0.042075</td>\n",
       "      <td>0.013732</td>\n",
       "    </tr>\n",
       "    <tr>\n",
       "      <th>Chlorides</th>\n",
       "      <td>0.093705</td>\n",
       "      <td>0.061298</td>\n",
       "      <td>0.203823</td>\n",
       "      <td>0.055610</td>\n",
       "      <td>1.000000</td>\n",
       "      <td>0.005562</td>\n",
       "      <td>0.047400</td>\n",
       "      <td>0.200632</td>\n",
       "      <td>-0.265026</td>\n",
       "      <td>0.371260</td>\n",
       "      <td>-0.221141</td>\n",
       "      <td>-0.128907</td>\n",
       "    </tr>\n",
       "    <tr>\n",
       "      <th>Free Sulfur Dioxide</th>\n",
       "      <td>-0.153794</td>\n",
       "      <td>-0.010504</td>\n",
       "      <td>-0.060978</td>\n",
       "      <td>0.187049</td>\n",
       "      <td>0.005562</td>\n",
       "      <td>1.000000</td>\n",
       "      <td>0.667666</td>\n",
       "      <td>-0.021946</td>\n",
       "      <td>0.070377</td>\n",
       "      <td>0.051658</td>\n",
       "      <td>-0.069408</td>\n",
       "      <td>-0.050656</td>\n",
       "    </tr>\n",
       "    <tr>\n",
       "      <th>Total Sulfur Dioxide</th>\n",
       "      <td>-0.113181</td>\n",
       "      <td>0.076470</td>\n",
       "      <td>0.035533</td>\n",
       "      <td>0.203028</td>\n",
       "      <td>0.047400</td>\n",
       "      <td>0.667666</td>\n",
       "      <td>1.000000</td>\n",
       "      <td>0.071269</td>\n",
       "      <td>-0.066495</td>\n",
       "      <td>0.042947</td>\n",
       "      <td>-0.205654</td>\n",
       "      <td>-0.185100</td>\n",
       "    </tr>\n",
       "    <tr>\n",
       "      <th>Density</th>\n",
       "      <td>0.668047</td>\n",
       "      <td>0.022026</td>\n",
       "      <td>0.364947</td>\n",
       "      <td>0.355283</td>\n",
       "      <td>0.200632</td>\n",
       "      <td>-0.021946</td>\n",
       "      <td>0.071269</td>\n",
       "      <td>1.000000</td>\n",
       "      <td>-0.341699</td>\n",
       "      <td>0.148506</td>\n",
       "      <td>-0.496180</td>\n",
       "      <td>-0.174919</td>\n",
       "    </tr>\n",
       "    <tr>\n",
       "      <th>pH</th>\n",
       "      <td>-0.682978</td>\n",
       "      <td>0.234937</td>\n",
       "      <td>-0.541904</td>\n",
       "      <td>-0.085652</td>\n",
       "      <td>-0.265026</td>\n",
       "      <td>0.070377</td>\n",
       "      <td>-0.066495</td>\n",
       "      <td>-0.341699</td>\n",
       "      <td>1.000000</td>\n",
       "      <td>-0.196648</td>\n",
       "      <td>0.205633</td>\n",
       "      <td>-0.057731</td>\n",
       "    </tr>\n",
       "    <tr>\n",
       "      <th>Sulphates</th>\n",
       "      <td>0.183006</td>\n",
       "      <td>-0.260987</td>\n",
       "      <td>0.312770</td>\n",
       "      <td>0.005527</td>\n",
       "      <td>0.371260</td>\n",
       "      <td>0.051658</td>\n",
       "      <td>0.042947</td>\n",
       "      <td>0.148506</td>\n",
       "      <td>-0.196648</td>\n",
       "      <td>1.000000</td>\n",
       "      <td>0.093595</td>\n",
       "      <td>0.251397</td>\n",
       "    </tr>\n",
       "    <tr>\n",
       "      <th>Alcohol</th>\n",
       "      <td>-0.061668</td>\n",
       "      <td>-0.202288</td>\n",
       "      <td>0.109903</td>\n",
       "      <td>0.042075</td>\n",
       "      <td>-0.221141</td>\n",
       "      <td>-0.069408</td>\n",
       "      <td>-0.205654</td>\n",
       "      <td>-0.496180</td>\n",
       "      <td>0.205633</td>\n",
       "      <td>0.093595</td>\n",
       "      <td>1.000000</td>\n",
       "      <td>0.476166</td>\n",
       "    </tr>\n",
       "    <tr>\n",
       "      <th>Quality</th>\n",
       "      <td>0.124052</td>\n",
       "      <td>-0.390558</td>\n",
       "      <td>0.226373</td>\n",
       "      <td>0.013732</td>\n",
       "      <td>-0.128907</td>\n",
       "      <td>-0.050656</td>\n",
       "      <td>-0.185100</td>\n",
       "      <td>-0.174919</td>\n",
       "      <td>-0.057731</td>\n",
       "      <td>0.251397</td>\n",
       "      <td>0.476166</td>\n",
       "      <td>1.000000</td>\n",
       "    </tr>\n",
       "  </tbody>\n",
       "</table>\n",
       "</div>"
      ],
      "text/plain": [
       "                      Fixed Acidity  Volatile Acidity  Citric Acid  \\\n",
       "Fixed Acidity              1.000000         -0.256131     0.671703   \n",
       "Volatile Acidity          -0.256131          1.000000    -0.552496   \n",
       "Citric Acid                0.671703         -0.552496     1.000000   \n",
       "Residual Sugar             0.114777          0.001918     0.143577   \n",
       "Chlorides                  0.093705          0.061298     0.203823   \n",
       "Free Sulfur Dioxide       -0.153794         -0.010504    -0.060978   \n",
       "Total Sulfur Dioxide      -0.113181          0.076470     0.035533   \n",
       "Density                    0.668047          0.022026     0.364947   \n",
       "pH                        -0.682978          0.234937    -0.541904   \n",
       "Sulphates                  0.183006         -0.260987     0.312770   \n",
       "Alcohol                   -0.061668         -0.202288     0.109903   \n",
       "Quality                    0.124052         -0.390558     0.226373   \n",
       "\n",
       "                      Residual Sugar  Chlorides  Free Sulfur Dioxide  \\\n",
       "Fixed Acidity               0.114777   0.093705            -0.153794   \n",
       "Volatile Acidity            0.001918   0.061298            -0.010504   \n",
       "Citric Acid                 0.143577   0.203823            -0.060978   \n",
       "Residual Sugar              1.000000   0.055610             0.187049   \n",
       "Chlorides                   0.055610   1.000000             0.005562   \n",
       "Free Sulfur Dioxide         0.187049   0.005562             1.000000   \n",
       "Total Sulfur Dioxide        0.203028   0.047400             0.667666   \n",
       "Density                     0.355283   0.200632            -0.021946   \n",
       "pH                         -0.085652  -0.265026             0.070377   \n",
       "Sulphates                   0.005527   0.371260             0.051658   \n",
       "Alcohol                     0.042075  -0.221141            -0.069408   \n",
       "Quality                     0.013732  -0.128907            -0.050656   \n",
       "\n",
       "                      Total Sulfur Dioxide   Density        pH  Sulphates  \\\n",
       "Fixed Acidity                    -0.113181  0.668047 -0.682978   0.183006   \n",
       "Volatile Acidity                  0.076470  0.022026  0.234937  -0.260987   \n",
       "Citric Acid                       0.035533  0.364947 -0.541904   0.312770   \n",
       "Residual Sugar                    0.203028  0.355283 -0.085652   0.005527   \n",
       "Chlorides                         0.047400  0.200632 -0.265026   0.371260   \n",
       "Free Sulfur Dioxide               0.667666 -0.021946  0.070377   0.051658   \n",
       "Total Sulfur Dioxide              1.000000  0.071269 -0.066495   0.042947   \n",
       "Density                           0.071269  1.000000 -0.341699   0.148506   \n",
       "pH                               -0.066495 -0.341699  1.000000  -0.196648   \n",
       "Sulphates                         0.042947  0.148506 -0.196648   1.000000   \n",
       "Alcohol                          -0.205654 -0.496180  0.205633   0.093595   \n",
       "Quality                          -0.185100 -0.174919 -0.057731   0.251397   \n",
       "\n",
       "                       Alcohol   Quality  \n",
       "Fixed Acidity        -0.061668  0.124052  \n",
       "Volatile Acidity     -0.202288 -0.390558  \n",
       "Citric Acid           0.109903  0.226373  \n",
       "Residual Sugar        0.042075  0.013732  \n",
       "Chlorides            -0.221141 -0.128907  \n",
       "Free Sulfur Dioxide  -0.069408 -0.050656  \n",
       "Total Sulfur Dioxide -0.205654 -0.185100  \n",
       "Density              -0.496180 -0.174919  \n",
       "pH                    0.205633 -0.057731  \n",
       "Sulphates             0.093595  0.251397  \n",
       "Alcohol               1.000000  0.476166  \n",
       "Quality               0.476166  1.000000  "
      ]
     },
     "execution_count": 2,
     "metadata": {},
     "output_type": "execute_result"
    }
   ],
   "source": [
    "## Data import\n",
    "\n",
    "headerList = ['Fixed Acidity','Volatile Acidity','Citric Acid','Residual Sugar','Chlorides','Free Sulfur Dioxide','Total Sulfur Dioxide','Density','pH','Sulphates','Alcohol','Quality']\n",
    "redWine = pd.read_csv('winequality-red.csv',header = 0, names = headerList,sep=\";\")\n",
    "\n",
    "redWine \n",
    "redWine.shape\n",
    "redWine.describe()\n",
    "redWine.corr()"
   ]
  },
  {
   "cell_type": "markdown",
   "metadata": {},
   "source": [
    "## Data Cleaning"
   ]
  },
  {
   "cell_type": "code",
   "execution_count": 3,
   "metadata": {},
   "outputs": [
    {
     "data": {
      "text/plain": [
       "Fixed Acidity           False\n",
       "Volatile Acidity        False\n",
       "Citric Acid             False\n",
       "Residual Sugar          False\n",
       "Chlorides               False\n",
       "Free Sulfur Dioxide     False\n",
       "Total Sulfur Dioxide    False\n",
       "Density                 False\n",
       "pH                      False\n",
       "Sulphates               False\n",
       "Alcohol                 False\n",
       "Quality                 False\n",
       "dtype: bool"
      ]
     },
     "execution_count": 3,
     "metadata": {},
     "output_type": "execute_result"
    }
   ],
   "source": [
    "#Replace the NAN with 0\n",
    "redWine.fillna(0, inplace = True)\n",
    "redWine.isnull().sum()\n",
    "redWine.isnull().any()"
   ]
  },
  {
   "cell_type": "markdown",
   "metadata": {},
   "source": [
    "From here, we can see that 3 and 8 could be noise in the dataset. In the data cleaning process, we can delete those noise in order to get a better model"
   ]
  },
  {
   "cell_type": "code",
   "execution_count": 4,
   "metadata": {},
   "outputs": [
    {
     "data": {
      "text/plain": [
       "5    681\n",
       "6    638\n",
       "7    199\n",
       "4     53\n",
       "8     18\n",
       "3     10\n",
       "Name: Quality, dtype: int64"
      ]
     },
     "execution_count": 4,
     "metadata": {},
     "output_type": "execute_result"
    }
   ],
   "source": [
    "redWine['Quality'].value_counts()\n",
    "# redWine.drop(index = (redWine.loc[(redWine['Quality'] == 3)].index),inplace = True)\n",
    "# redWine.drop(index = (redWine.loc[(redWine['Quality'] == 8)].index),inplace = True)\n",
    "# redWine['Quality'].value_counts()"
   ]
  },
  {
   "cell_type": "markdown",
   "metadata": {},
   "source": [
    "## Standardlized"
   ]
  },
  {
   "cell_type": "code",
   "execution_count": 11,
   "metadata": {},
   "outputs": [
    {
     "data": {
      "image/png": "[encoded data removed]",
      "text/plain": [
       "<Figure size 432x288 with 1 Axes>"
      ]
     },
     "metadata": {
      "needs_background": "light"
     },
     "output_type": "display_data"
    },
    {
     "data": {
      "image/png": "[encoded data removed]",
      "text/plain": [
       "<Figure size 432x288 with 1 Axes>"
      ]
     },
     "metadata": {
      "needs_background": "light"
     },
     "output_type": "display_data"
    },
    {
     "data": {
      "image/png": "[encoded data removed]",
      "text/plain": [
       "<Figure size 432x288 with 1 Axes>"
      ]
     },
     "metadata": {
      "needs_background": "light"
     },
     "output_type": "display_data"
    },
    {
     "data": {
      "text/plain": [
       "[<matplotlib.lines.Line2D at 0x7feb5b61e8b0>,\n",
       " <matplotlib.lines.Line2D at 0x7feb5b61e880>,\n",
       " <matplotlib.lines.Line2D at 0x7feb5b61e910>,\n",
       " <matplotlib.lines.Line2D at 0x7feb5b61e9d0>,\n",
       " <matplotlib.lines.Line2D at 0x7feb5b61ea90>,\n",
       " <matplotlib.lines.Line2D at 0x7feb5b61eb50>,\n",
       " <matplotlib.lines.Line2D at 0x7feb5b61ec10>,\n",
       " <matplotlib.lines.Line2D at 0x7feb5b61ecd0>,\n",
       " <matplotlib.lines.Line2D at 0x7feb5b61ed90>,\n",
       " <matplotlib.lines.Line2D at 0x7feb5b61ee50>,\n",
       " <matplotlib.lines.Line2D at 0x7feb5b58baf0>]"
      ]
     },
     "execution_count": 11,
     "metadata": {},
     "output_type": "execute_result"
    },
    {
     "data": {
      "image/png": "[encoded data removed]",
      "text/plain": [
       "<Figure size 432x288 with 1 Axes>"
      ]
     },
     "metadata": {
      "needs_background": "light"
     },
     "output_type": "display_data"
    }
   ],
   "source": [
    "# split data to X and y and standardscaler\n",
    "X = redWine.drop(['Quality'], axis = 1)\n",
    "X_std = StandardScaler().fit_transform(redWine.drop(['Quality'], axis = 1))\n",
    "y = redWine['Quality']\n",
    "X_min_max = MinMaxScaler().fit_transform(redWine.drop(['Quality'], axis = 1))\n",
    "\n",
    "X_min_max_X_std = MinMaxScaler().fit_transform(X_std)\n",
    "\n",
    "X_train, X_test, y_train, y_test = train_test_split(X, y, test_size=0.33)\n",
    "\n",
    "plt.plot(X,y,'.')\n",
    "plt.show()\n",
    "plt.plot(X_std,y,'.')\n",
    "plt.show()\n",
    "plt.plot(X_min_max,y,'.')\n",
    "plt.show()\n",
    "plt.plot(X_min_max_X_std,y,'.')"
   ]
  },
  {
   "cell_type": "code",
   "execution_count": 6,
   "metadata": {},
   "outputs": [
    {
     "data": {
      "image/png": "[encoded data removed]",
      "text/plain": [
       "<Figure size 432x288 with 1 Axes>"
      ]
     },
     "metadata": {
      "needs_background": "light"
     },
     "output_type": "display_data"
    },
    {
     "data": {
      "text/plain": [
       "[<matplotlib.lines.Line2D at 0x7feb78346d90>,\n",
       " <matplotlib.lines.Line2D at 0x7feb7835cfd0>,\n",
       " <matplotlib.lines.Line2D at 0x7feb78368040>,\n",
       " <matplotlib.lines.Line2D at 0x7feb78368130>,\n",
       " <matplotlib.lines.Line2D at 0x7feb783681f0>,\n",
       " <matplotlib.lines.Line2D at 0x7feb783682b0>,\n",
       " <matplotlib.lines.Line2D at 0x7feb78368370>,\n",
       " <matplotlib.lines.Line2D at 0x7feb78368430>,\n",
       " <matplotlib.lines.Line2D at 0x7feb783684f0>,\n",
       " <matplotlib.lines.Line2D at 0x7feb783685b0>,\n",
       " <matplotlib.lines.Line2D at 0x7feb7833f130>]"
      ]
     },
     "execution_count": 6,
     "metadata": {},
     "output_type": "execute_result"
    },
    {
     "data": {
      "image/png": "[encoded data removed]",
      "text/plain": [
       "<Figure size 432x288 with 1 Axes>"
      ]
     },
     "metadata": {
      "needs_background": "light"
     },
     "output_type": "display_data"
    }
   ],
   "source": [
    "# StandardScaler\n",
    "from sklearn.preprocessing import StandardScaler\n",
    "scale = StandardScaler()\n",
    "x_train = scale.fit_transform(X_train)\n",
    "x_test = scale.transform(X_test)\n",
    "plt.plot(X_test,y_test,'.')\n",
    "plt.show()\n",
    "plt.plot(x_test,y_test,'.')"
   ]
  },
  {
   "cell_type": "code",
   "execution_count": 7,
   "metadata": {},
   "outputs": [
    {
     "name": "stdout",
     "output_type": "stream",
     "text": [
      "              precision    recall  f1-score   support\n",
      "\n",
      "           3       0.00      0.00      0.00         3\n",
      "           4       0.00      0.00      0.00        20\n",
      "           5       0.62      0.70      0.66       221\n",
      "           6       0.53      0.65      0.58       204\n",
      "           7       0.70      0.28      0.40        69\n",
      "           8       0.00      0.00      0.00        11\n",
      "\n",
      "    accuracy                           0.58       528\n",
      "   macro avg       0.31      0.27      0.27       528\n",
      "weighted avg       0.55      0.58      0.55       528\n",
      "\n"
     ]
    },
    {
     "name": "stderr",
     "output_type": "stream",
     "text": [
      "/Users/willspro/opt/anaconda3/lib/python3.8/site-packages/sklearn/metrics/_classification.py:1221: UndefinedMetricWarning: Precision and F-score are ill-defined and being set to 0.0 in labels with no predicted samples. Use `zero_division` parameter to control this behavior.\n",
      "  _warn_prf(average, modifier, msg_start, len(result))\n"
     ]
    }
   ],
   "source": [
    "# KNN\n",
    "from sklearn.metrics import classification_report\n",
    "from sklearn.neighbors import KNeighborsClassifier\n",
    "classifier_knn = KNeighborsClassifier(n_neighbors = 30, weights = 'distance')\n",
    "classifier_knn.fit(X_train,y_train)\n",
    "pred_knn = classifier_knn.predict(X_test)\n",
    "print(classification_report(y_test, pred_knn))"
   ]
  },
  {
   "cell_type": "code",
   "execution_count": 8,
   "metadata": {},
   "outputs": [
    {
     "name": "stdout",
     "output_type": "stream",
     "text": [
      "              precision    recall  f1-score   support\n",
      "\n",
      "           3       0.00      0.00      0.00         3\n",
      "           4       0.00      0.00      0.00        20\n",
      "           5       0.74      0.82      0.78       221\n",
      "           6       0.63      0.70      0.66       204\n",
      "           7       0.56      0.43      0.49        69\n",
      "           8       0.00      0.00      0.00        11\n",
      "\n",
      "    accuracy                           0.67       528\n",
      "   macro avg       0.32      0.33      0.32       528\n",
      "weighted avg       0.62      0.67      0.64       528\n",
      "\n"
     ]
    },
    {
     "name": "stderr",
     "output_type": "stream",
     "text": [
      "/Users/willspro/opt/anaconda3/lib/python3.8/site-packages/sklearn/metrics/_classification.py:1221: UndefinedMetricWarning: Precision and F-score are ill-defined and being set to 0.0 in labels with no predicted samples. Use `zero_division` parameter to control this behavior.\n",
      "  _warn_prf(average, modifier, msg_start, len(result))\n"
     ]
    }
   ],
   "source": [
    "# RandomForest\n",
    "from sklearn.ensemble import RandomForestClassifier\n",
    "classifier_rf = RandomForestClassifier(n_estimators=200, max_depth=100,  max_features='sqrt')\n",
    "classifier_rf.fit(X_train, y_train)\n",
    "pred_rf = classifier_rf.predict(X_test)\n",
    "print(classification_report(y_test, pred_rf))"
   ]
  },
  {
   "cell_type": "code",
   "execution_count": 9,
   "metadata": {},
   "outputs": [
    {
     "name": "stdout",
     "output_type": "stream",
     "text": [
      "              precision    recall  f1-score   support\n",
      "\n",
      "           3       0.00      0.00      0.00         3\n",
      "           4       0.00      0.00      0.00        20\n",
      "           5       0.65      0.71      0.68       221\n",
      "           6       0.51      0.60      0.55       204\n",
      "           7       0.45      0.29      0.35        69\n",
      "           8       0.00      0.00      0.00        11\n",
      "\n",
      "    accuracy                           0.57       528\n",
      "   macro avg       0.27      0.27      0.26       528\n",
      "weighted avg       0.53      0.57      0.54       528\n",
      "\n"
     ]
    },
    {
     "name": "stderr",
     "output_type": "stream",
     "text": [
      "/Users/willspro/opt/anaconda3/lib/python3.8/site-packages/sklearn/neural_network/_multilayer_perceptron.py:471: ConvergenceWarning: lbfgs failed to converge (status=1):\n",
      "STOP: TOTAL NO. of ITERATIONS REACHED LIMIT.\n",
      "\n",
      "Increase the number of iterations (max_iter) or scale the data as shown in:\n",
      "    https://scikit-learn.org/stable/modules/preprocessing.html\n",
      "  self.n_iter_ = _check_optimize_result(\"lbfgs\", opt_res, self.max_iter)\n",
      "/Users/willspro/opt/anaconda3/lib/python3.8/site-packages/sklearn/metrics/_classification.py:1221: UndefinedMetricWarning: Precision and F-score are ill-defined and being set to 0.0 in labels with no predicted samples. Use `zero_division` parameter to control this behavior.\n",
      "  _warn_prf(average, modifier, msg_start, len(result))\n"
     ]
    }
   ],
   "source": [
    "#ANN\n",
    "from sklearn.neural_network import MLPClassifier\n",
    "classifier_ann = MLPClassifier(solver='lbfgs', activation='relu', hidden_layer_sizes = 700)\n",
    "classifier_ann.fit(X_train, y_train)\n",
    "pred_ann = classifier_ann.predict(X_test)\n",
    "print(classification_report(y_test, pred_ann))"
   ]
  },
  {
   "cell_type": "code",
   "execution_count": null,
   "metadata": {},
   "outputs": [],
   "source": []
  },
  {
   "cell_type": "code",
   "execution_count": null,
   "metadata": {},
   "outputs": [],
   "source": []
  }
 ],
 "metadata": {
  "kernelspec": {
   "display_name": "Python 3",
   "language": "python",
   "name": "python3"
  },
  "language_info": {
   "codemirror_mode": {
    "name": "ipython",
    "version": 3
   },
   "file_extension": ".py",
   "mimetype": "text/x-python",
   "name": "python",
   "nbconvert_exporter": "python",
   "pygments_lexer": "ipython3",
   "version": "3.8.5"
  }
 },
 "nbformat": 4,
 "nbformat_minor": 4
}
